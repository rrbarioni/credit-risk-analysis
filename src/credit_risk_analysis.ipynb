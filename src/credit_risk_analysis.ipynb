{
 "cells": [
  {
   "cell_type": "markdown",
   "metadata": {},
   "source": [
    "# Credit Risk Analysis"
   ]
  },
  {
   "cell_type": "markdown",
   "metadata": {},
   "source": [
    "### Import libraries"
   ]
  },
  {
   "cell_type": "code",
   "execution_count": 2,
   "metadata": {},
   "outputs": [],
   "source": [
    "import os\n",
    "import math\n",
    "import numpy as np\n",
    "import scipy\n",
    "import pandas as pd\n",
    "import seaborn as sns\n",
    "import matplotlib.pyplot as plt\n",
    "import warnings\n",
    "from xgboost import XGBClassifier\n",
    "from sklearn.model_selection import train_test_split, RandomizedSearchCV\n",
    "from sklearn.feature_selection import f_classif\n",
    "from sklearn.preprocessing import StandardScaler\n",
    "from sklearn.linear_model import LogisticRegression\n",
    "from sklearn.tree import DecisionTreeClassifier\n",
    "from sklearn.ensemble import RandomForestClassifier, VotingClassifier, AdaBoostClassifier\n",
    "from sklearn.naive_bayes import GaussianNB\n",
    "from sklearn.metrics import accuracy_score, confusion_matrix, roc_auc_score\n",
    "\n",
    "warnings.filterwarnings(\"ignore\")\n",
    "np.set_printoptions(suppress=True)"
   ]
  },
  {
   "cell_type": "markdown",
   "metadata": {},
   "source": [
    "### Load data"
   ]
  },
  {
   "cell_type": "code",
   "execution_count": 3,
   "metadata": {},
   "outputs": [],
   "source": [
    "filepath = os.path.join('..', 'resources', 'df_criado_final.csv')\n",
    "df = pd.read_csv(filepath, delimiter=',')"
   ]
  },
  {
   "cell_type": "code",
   "execution_count": 4,
   "metadata": {},
   "outputs": [
    {
     "name": "stdout",
     "output_type": "stream",
     "text": [
      "<class 'pandas.core.frame.DataFrame'>\n",
      "RangeIndex: 50390 entries, 0 to 50389\n",
      "Data columns (total 23 columns):\n",
      " #   Column                       Non-Null Count  Dtype  \n",
      "---  ------                       --------------  -----  \n",
      " 0   Escolaridade                 14615 non-null  float64\n",
      " 1   Renda Mensal Informal        9768 non-null   float64\n",
      " 2   Dependentes                  50390 non-null  object \n",
      " 3   Estado Civil                 50390 non-null  int64  \n",
      " 4   Idade                        50390 non-null  int64  \n",
      " 5   Conta Poupanca               50390 non-null  object \n",
      " 6   Conta Salario                50390 non-null  object \n",
      " 7   Quant Adiantamento Deposito  21843 non-null  float64\n",
      " 8   Qtd Fonte Renda              12806 non-null  float64\n",
      " 9   Cheque Sem Fundo             50390 non-null  object \n",
      " 10  Conta Conjunta               50390 non-null  object \n",
      " 11  Valor Conta Corrente         0 non-null      float64\n",
      " 12  Valor Conta Poupanca         0 non-null      float64\n",
      " 13  Valor Emprestimo             50390 non-null  float64\n",
      " 14  Multa                        50390 non-null  float64\n",
      " 15  Juros                        50390 non-null  float64\n",
      " 16  Valor Emprestimo Atualizado  50390 non-null  float64\n",
      " 17  PAGO                         50390 non-null  int64  \n",
      " 18  Controle                     50390 non-null  int64  \n",
      " 19  ID                           50390 non-null  float64\n",
      " 20  Genero                       50390 non-null  int64  \n",
      " 21  Data                         50390 non-null  object \n",
      " 22  Estado                       50390 non-null  int64  \n",
      "dtypes: float64(11), int64(6), object(6)\n",
      "memory usage: 8.8+ MB\n"
     ]
    }
   ],
   "source": [
    "df.info()"
   ]
  },
  {
   "cell_type": "code",
   "execution_count": 5,
   "metadata": {},
   "outputs": [
    {
     "data": {
      "text/html": [
       "<div>\n",
       "<style scoped>\n",
       "    .dataframe tbody tr th:only-of-type {\n",
       "        vertical-align: middle;\n",
       "    }\n",
       "\n",
       "    .dataframe tbody tr th {\n",
       "        vertical-align: top;\n",
       "    }\n",
       "\n",
       "    .dataframe thead th {\n",
       "        text-align: right;\n",
       "    }\n",
       "</style>\n",
       "<table border=\"1\" class=\"dataframe\">\n",
       "  <thead>\n",
       "    <tr style=\"text-align: right;\">\n",
       "      <th></th>\n",
       "      <th>Escolaridade</th>\n",
       "      <th>Renda Mensal Informal</th>\n",
       "      <th>Estado Civil</th>\n",
       "      <th>Idade</th>\n",
       "      <th>Quant Adiantamento Deposito</th>\n",
       "      <th>Qtd Fonte Renda</th>\n",
       "      <th>Valor Conta Corrente</th>\n",
       "      <th>Valor Conta Poupanca</th>\n",
       "      <th>Valor Emprestimo</th>\n",
       "      <th>Multa</th>\n",
       "      <th>Juros</th>\n",
       "      <th>Valor Emprestimo Atualizado</th>\n",
       "      <th>PAGO</th>\n",
       "      <th>Controle</th>\n",
       "      <th>ID</th>\n",
       "      <th>Genero</th>\n",
       "      <th>Estado</th>\n",
       "    </tr>\n",
       "  </thead>\n",
       "  <tbody>\n",
       "    <tr>\n",
       "      <th>count</th>\n",
       "      <td>14615.000000</td>\n",
       "      <td>9768.000000</td>\n",
       "      <td>50390.000000</td>\n",
       "      <td>50390.000000</td>\n",
       "      <td>21843.000000</td>\n",
       "      <td>12806.000000</td>\n",
       "      <td>0.0</td>\n",
       "      <td>0.0</td>\n",
       "      <td>5.039000e+04</td>\n",
       "      <td>5.039000e+04</td>\n",
       "      <td>5.039000e+04</td>\n",
       "      <td>5.039000e+04</td>\n",
       "      <td>50390.000000</td>\n",
       "      <td>50390.0</td>\n",
       "      <td>5.039000e+04</td>\n",
       "      <td>50390.000000</td>\n",
       "      <td>50390.000000</td>\n",
       "    </tr>\n",
       "    <tr>\n",
       "      <th>mean</th>\n",
       "      <td>1.175573</td>\n",
       "      <td>4635.610641</td>\n",
       "      <td>3.503354</td>\n",
       "      <td>31.724529</td>\n",
       "      <td>2.104931</td>\n",
       "      <td>1.241605</td>\n",
       "      <td>NaN</td>\n",
       "      <td>NaN</td>\n",
       "      <td>5.198927e+04</td>\n",
       "      <td>6.022658e+04</td>\n",
       "      <td>6.485391e+04</td>\n",
       "      <td>1.721779e+05</td>\n",
       "      <td>0.790891</td>\n",
       "      <td>1.0</td>\n",
       "      <td>3.740829e+09</td>\n",
       "      <td>0.498333</td>\n",
       "      <td>57.498055</td>\n",
       "    </tr>\n",
       "    <tr>\n",
       "      <th>std</th>\n",
       "      <td>0.508951</td>\n",
       "      <td>24776.361024</td>\n",
       "      <td>2.132091</td>\n",
       "      <td>8.565117</td>\n",
       "      <td>0.898459</td>\n",
       "      <td>0.496176</td>\n",
       "      <td>NaN</td>\n",
       "      <td>NaN</td>\n",
       "      <td>1.588819e+06</td>\n",
       "      <td>2.843941e+06</td>\n",
       "      <td>2.728170e+06</td>\n",
       "      <td>7.058290e+06</td>\n",
       "      <td>0.406676</td>\n",
       "      <td>0.0</td>\n",
       "      <td>7.248462e+09</td>\n",
       "      <td>0.500002</td>\n",
       "      <td>1.118008</td>\n",
       "    </tr>\n",
       "    <tr>\n",
       "      <th>min</th>\n",
       "      <td>1.000000</td>\n",
       "      <td>0.009600</td>\n",
       "      <td>1.000000</td>\n",
       "      <td>18.000000</td>\n",
       "      <td>1.000000</td>\n",
       "      <td>1.000000</td>\n",
       "      <td>NaN</td>\n",
       "      <td>NaN</td>\n",
       "      <td>1.431000e+03</td>\n",
       "      <td>0.000000e+00</td>\n",
       "      <td>0.000000e+00</td>\n",
       "      <td>1.441500e+03</td>\n",
       "      <td>0.000000</td>\n",
       "      <td>1.0</td>\n",
       "      <td>1.168846e+06</td>\n",
       "      <td>0.000000</td>\n",
       "      <td>56.000000</td>\n",
       "    </tr>\n",
       "    <tr>\n",
       "      <th>25%</th>\n",
       "      <td>1.000000</td>\n",
       "      <td>28.173400</td>\n",
       "      <td>2.000000</td>\n",
       "      <td>26.000000</td>\n",
       "      <td>2.000000</td>\n",
       "      <td>1.000000</td>\n",
       "      <td>NaN</td>\n",
       "      <td>NaN</td>\n",
       "      <td>1.593000e+03</td>\n",
       "      <td>1.325675e+02</td>\n",
       "      <td>2.742725e+02</td>\n",
       "      <td>2.840910e+03</td>\n",
       "      <td>1.000000</td>\n",
       "      <td>1.0</td>\n",
       "      <td>1.383124e+06</td>\n",
       "      <td>0.000000</td>\n",
       "      <td>56.000000</td>\n",
       "    </tr>\n",
       "    <tr>\n",
       "      <th>50%</th>\n",
       "      <td>1.000000</td>\n",
       "      <td>186.004900</td>\n",
       "      <td>2.000000</td>\n",
       "      <td>30.000000</td>\n",
       "      <td>2.000000</td>\n",
       "      <td>1.000000</td>\n",
       "      <td>NaN</td>\n",
       "      <td>NaN</td>\n",
       "      <td>2.298035e+03</td>\n",
       "      <td>6.489650e+02</td>\n",
       "      <td>1.143320e+03</td>\n",
       "      <td>5.609805e+03</td>\n",
       "      <td>1.000000</td>\n",
       "      <td>1.0</td>\n",
       "      <td>1.439557e+06</td>\n",
       "      <td>0.000000</td>\n",
       "      <td>57.000000</td>\n",
       "    </tr>\n",
       "    <tr>\n",
       "      <th>75%</th>\n",
       "      <td>1.000000</td>\n",
       "      <td>1159.021800</td>\n",
       "      <td>4.000000</td>\n",
       "      <td>35.000000</td>\n",
       "      <td>2.000000</td>\n",
       "      <td>1.000000</td>\n",
       "      <td>NaN</td>\n",
       "      <td>NaN</td>\n",
       "      <td>7.172175e+03</td>\n",
       "      <td>3.600000e+03</td>\n",
       "      <td>5.545427e+03</td>\n",
       "      <td>1.791325e+04</td>\n",
       "      <td>1.000000</td>\n",
       "      <td>1.0</td>\n",
       "      <td>4.699642e+07</td>\n",
       "      <td>1.000000</td>\n",
       "      <td>58.000000</td>\n",
       "    </tr>\n",
       "    <tr>\n",
       "      <th>max</th>\n",
       "      <td>3.000000</td>\n",
       "      <td>516960.779100</td>\n",
       "      <td>11.000000</td>\n",
       "      <td>113.000000</td>\n",
       "      <td>18.000000</td>\n",
       "      <td>3.000000</td>\n",
       "      <td>NaN</td>\n",
       "      <td>NaN</td>\n",
       "      <td>2.867894e+08</td>\n",
       "      <td>5.737759e+08</td>\n",
       "      <td>5.703619e+08</td>\n",
       "      <td>1.430927e+09</td>\n",
       "      <td>1.000000</td>\n",
       "      <td>1.0</td>\n",
       "      <td>2.399887e+10</td>\n",
       "      <td>1.000000</td>\n",
       "      <td>59.000000</td>\n",
       "    </tr>\n",
       "  </tbody>\n",
       "</table>\n",
       "</div>"
      ],
      "text/plain": [
       "       Escolaridade  Renda Mensal Informal  Estado Civil         Idade  \\\n",
       "count  14615.000000            9768.000000  50390.000000  50390.000000   \n",
       "mean       1.175573            4635.610641      3.503354     31.724529   \n",
       "std        0.508951           24776.361024      2.132091      8.565117   \n",
       "min        1.000000               0.009600      1.000000     18.000000   \n",
       "25%        1.000000              28.173400      2.000000     26.000000   \n",
       "50%        1.000000             186.004900      2.000000     30.000000   \n",
       "75%        1.000000            1159.021800      4.000000     35.000000   \n",
       "max        3.000000          516960.779100     11.000000    113.000000   \n",
       "\n",
       "       Quant Adiantamento Deposito  Qtd Fonte Renda  Valor Conta Corrente  \\\n",
       "count                 21843.000000     12806.000000                   0.0   \n",
       "mean                      2.104931         1.241605                   NaN   \n",
       "std                       0.898459         0.496176                   NaN   \n",
       "min                       1.000000         1.000000                   NaN   \n",
       "25%                       2.000000         1.000000                   NaN   \n",
       "50%                       2.000000         1.000000                   NaN   \n",
       "75%                       2.000000         1.000000                   NaN   \n",
       "max                      18.000000         3.000000                   NaN   \n",
       "\n",
       "       Valor Conta Poupanca  Valor Emprestimo         Multa         Juros  \\\n",
       "count                   0.0      5.039000e+04  5.039000e+04  5.039000e+04   \n",
       "mean                    NaN      5.198927e+04  6.022658e+04  6.485391e+04   \n",
       "std                     NaN      1.588819e+06  2.843941e+06  2.728170e+06   \n",
       "min                     NaN      1.431000e+03  0.000000e+00  0.000000e+00   \n",
       "25%                     NaN      1.593000e+03  1.325675e+02  2.742725e+02   \n",
       "50%                     NaN      2.298035e+03  6.489650e+02  1.143320e+03   \n",
       "75%                     NaN      7.172175e+03  3.600000e+03  5.545427e+03   \n",
       "max                     NaN      2.867894e+08  5.737759e+08  5.703619e+08   \n",
       "\n",
       "       Valor Emprestimo Atualizado          PAGO  Controle            ID  \\\n",
       "count                 5.039000e+04  50390.000000   50390.0  5.039000e+04   \n",
       "mean                  1.721779e+05      0.790891       1.0  3.740829e+09   \n",
       "std                   7.058290e+06      0.406676       0.0  7.248462e+09   \n",
       "min                   1.441500e+03      0.000000       1.0  1.168846e+06   \n",
       "25%                   2.840910e+03      1.000000       1.0  1.383124e+06   \n",
       "50%                   5.609805e+03      1.000000       1.0  1.439557e+06   \n",
       "75%                   1.791325e+04      1.000000       1.0  4.699642e+07   \n",
       "max                   1.430927e+09      1.000000       1.0  2.399887e+10   \n",
       "\n",
       "             Genero        Estado  \n",
       "count  50390.000000  50390.000000  \n",
       "mean       0.498333     57.498055  \n",
       "std        0.500002      1.118008  \n",
       "min        0.000000     56.000000  \n",
       "25%        0.000000     56.000000  \n",
       "50%        0.000000     57.000000  \n",
       "75%        1.000000     58.000000  \n",
       "max        1.000000     59.000000  "
      ]
     },
     "execution_count": 5,
     "metadata": {},
     "output_type": "execute_result"
    }
   ],
   "source": [
    "df.describe()"
   ]
  },
  {
   "cell_type": "code",
   "execution_count": 6,
   "metadata": {},
   "outputs": [
    {
     "data": {
      "text/html": [
       "<div>\n",
       "<style scoped>\n",
       "    .dataframe tbody tr th:only-of-type {\n",
       "        vertical-align: middle;\n",
       "    }\n",
       "\n",
       "    .dataframe tbody tr th {\n",
       "        vertical-align: top;\n",
       "    }\n",
       "\n",
       "    .dataframe thead th {\n",
       "        text-align: right;\n",
       "    }\n",
       "</style>\n",
       "<table border=\"1\" class=\"dataframe\">\n",
       "  <thead>\n",
       "    <tr style=\"text-align: right;\">\n",
       "      <th></th>\n",
       "      <th>Escolaridade</th>\n",
       "      <th>Renda Mensal Informal</th>\n",
       "      <th>Dependentes</th>\n",
       "      <th>Estado Civil</th>\n",
       "      <th>Idade</th>\n",
       "      <th>Conta Poupanca</th>\n",
       "      <th>Conta Salario</th>\n",
       "      <th>Quant Adiantamento Deposito</th>\n",
       "      <th>Qtd Fonte Renda</th>\n",
       "      <th>Cheque Sem Fundo</th>\n",
       "      <th>...</th>\n",
       "      <th>Valor Emprestimo</th>\n",
       "      <th>Multa</th>\n",
       "      <th>Juros</th>\n",
       "      <th>Valor Emprestimo Atualizado</th>\n",
       "      <th>PAGO</th>\n",
       "      <th>Controle</th>\n",
       "      <th>ID</th>\n",
       "      <th>Genero</th>\n",
       "      <th>Data</th>\n",
       "      <th>Estado</th>\n",
       "    </tr>\n",
       "  </thead>\n",
       "  <tbody>\n",
       "    <tr>\n",
       "      <th>0</th>\n",
       "      <td>NaN</td>\n",
       "      <td>NaN</td>\n",
       "      <td>S</td>\n",
       "      <td>2</td>\n",
       "      <td>36</td>\n",
       "      <td>S</td>\n",
       "      <td>N</td>\n",
       "      <td>NaN</td>\n",
       "      <td>NaN</td>\n",
       "      <td>N</td>\n",
       "      <td>...</td>\n",
       "      <td>8174.32</td>\n",
       "      <td>263.25</td>\n",
       "      <td>5844.98</td>\n",
       "      <td>14282.55</td>\n",
       "      <td>1</td>\n",
       "      <td>1</td>\n",
       "      <td>1328587.0</td>\n",
       "      <td>1</td>\n",
       "      <td>2020-01-01</td>\n",
       "      <td>57</td>\n",
       "    </tr>\n",
       "    <tr>\n",
       "      <th>1</th>\n",
       "      <td>1.0</td>\n",
       "      <td>1894.5078</td>\n",
       "      <td>N</td>\n",
       "      <td>2</td>\n",
       "      <td>39</td>\n",
       "      <td>S</td>\n",
       "      <td>N</td>\n",
       "      <td>2.0</td>\n",
       "      <td>1.0</td>\n",
       "      <td>S</td>\n",
       "      <td>...</td>\n",
       "      <td>41775.63</td>\n",
       "      <td>1607.29</td>\n",
       "      <td>7652.26</td>\n",
       "      <td>51035.18</td>\n",
       "      <td>1</td>\n",
       "      <td>1</td>\n",
       "      <td>1424254.0</td>\n",
       "      <td>1</td>\n",
       "      <td>2020-01-01</td>\n",
       "      <td>59</td>\n",
       "    </tr>\n",
       "    <tr>\n",
       "      <th>2</th>\n",
       "      <td>1.0</td>\n",
       "      <td>NaN</td>\n",
       "      <td>S</td>\n",
       "      <td>2</td>\n",
       "      <td>26</td>\n",
       "      <td>S</td>\n",
       "      <td>N</td>\n",
       "      <td>NaN</td>\n",
       "      <td>1.0</td>\n",
       "      <td>S</td>\n",
       "      <td>...</td>\n",
       "      <td>522940.27</td>\n",
       "      <td>24860.40</td>\n",
       "      <td>319315.62</td>\n",
       "      <td>867116.29</td>\n",
       "      <td>1</td>\n",
       "      <td>1</td>\n",
       "      <td>1438519.0</td>\n",
       "      <td>0</td>\n",
       "      <td>2020-01-01</td>\n",
       "      <td>56</td>\n",
       "    </tr>\n",
       "    <tr>\n",
       "      <th>3</th>\n",
       "      <td>NaN</td>\n",
       "      <td>NaN</td>\n",
       "      <td>N</td>\n",
       "      <td>8</td>\n",
       "      <td>23</td>\n",
       "      <td>N</td>\n",
       "      <td>N</td>\n",
       "      <td>NaN</td>\n",
       "      <td>NaN</td>\n",
       "      <td>N</td>\n",
       "      <td>...</td>\n",
       "      <td>1593.00</td>\n",
       "      <td>21472.36</td>\n",
       "      <td>2967.48</td>\n",
       "      <td>26032.84</td>\n",
       "      <td>1</td>\n",
       "      <td>1</td>\n",
       "      <td>1426138.0</td>\n",
       "      <td>1</td>\n",
       "      <td>2020-01-01</td>\n",
       "      <td>56</td>\n",
       "    </tr>\n",
       "    <tr>\n",
       "      <th>4</th>\n",
       "      <td>NaN</td>\n",
       "      <td>NaN</td>\n",
       "      <td>S</td>\n",
       "      <td>2</td>\n",
       "      <td>33</td>\n",
       "      <td>S</td>\n",
       "      <td>N</td>\n",
       "      <td>NaN</td>\n",
       "      <td>NaN</td>\n",
       "      <td>N</td>\n",
       "      <td>...</td>\n",
       "      <td>2078.97</td>\n",
       "      <td>19.44</td>\n",
       "      <td>46.35</td>\n",
       "      <td>2144.76</td>\n",
       "      <td>1</td>\n",
       "      <td>1</td>\n",
       "      <td>1474504.0</td>\n",
       "      <td>0</td>\n",
       "      <td>2020-01-01</td>\n",
       "      <td>59</td>\n",
       "    </tr>\n",
       "  </tbody>\n",
       "</table>\n",
       "<p>5 rows × 23 columns</p>\n",
       "</div>"
      ],
      "text/plain": [
       "   Escolaridade  Renda Mensal Informal Dependentes  Estado Civil  Idade  \\\n",
       "0           NaN                    NaN           S             2     36   \n",
       "1           1.0              1894.5078           N             2     39   \n",
       "2           1.0                    NaN           S             2     26   \n",
       "3           NaN                    NaN           N             8     23   \n",
       "4           NaN                    NaN           S             2     33   \n",
       "\n",
       "  Conta Poupanca Conta Salario  Quant Adiantamento Deposito  Qtd Fonte Renda  \\\n",
       "0              S             N                          NaN              NaN   \n",
       "1              S             N                          2.0              1.0   \n",
       "2              S             N                          NaN              1.0   \n",
       "3              N             N                          NaN              NaN   \n",
       "4              S             N                          NaN              NaN   \n",
       "\n",
       "  Cheque Sem Fundo  ... Valor Emprestimo     Multa      Juros  \\\n",
       "0                N  ...          8174.32    263.25    5844.98   \n",
       "1                S  ...         41775.63   1607.29    7652.26   \n",
       "2                S  ...        522940.27  24860.40  319315.62   \n",
       "3                N  ...          1593.00  21472.36    2967.48   \n",
       "4                N  ...          2078.97     19.44      46.35   \n",
       "\n",
       "   Valor Emprestimo Atualizado  PAGO  Controle         ID  Genero        Data  \\\n",
       "0                     14282.55     1         1  1328587.0       1  2020-01-01   \n",
       "1                     51035.18     1         1  1424254.0       1  2020-01-01   \n",
       "2                    867116.29     1         1  1438519.0       0  2020-01-01   \n",
       "3                     26032.84     1         1  1426138.0       1  2020-01-01   \n",
       "4                      2144.76     1         1  1474504.0       0  2020-01-01   \n",
       "\n",
       "   Estado  \n",
       "0      57  \n",
       "1      59  \n",
       "2      56  \n",
       "3      56  \n",
       "4      59  \n",
       "\n",
       "[5 rows x 23 columns]"
      ]
     },
     "execution_count": 6,
     "metadata": {},
     "output_type": "execute_result"
    }
   ],
   "source": [
    "df.head()"
   ]
  },
  {
   "cell_type": "code",
   "execution_count": 7,
   "metadata": {},
   "outputs": [],
   "source": [
    "target = 'PAGO'"
   ]
  },
  {
   "cell_type": "markdown",
   "metadata": {},
   "source": [
    "### Remove features not related to credit risk"
   ]
  },
  {
   "cell_type": "code",
   "execution_count": 8,
   "metadata": {},
   "outputs": [],
   "source": [
    "not_related_features = ['ID']\n",
    "df = df.drop(columns=not_related_features, errors='ignore')"
   ]
  },
  {
   "cell_type": "markdown",
   "metadata": {},
   "source": [
    "### Analyze amount of different values for each feature"
   ]
  },
  {
   "cell_type": "code",
   "execution_count": 9,
   "metadata": {},
   "outputs": [
    {
     "data": {
      "text/plain": [
       "{'Escolaridade': 4,\n",
       " 'Renda Mensal Informal': 2342,\n",
       " 'Dependentes': 2,\n",
       " 'Estado Civil': 9,\n",
       " 'Idade': 77,\n",
       " 'Conta Poupanca': 2,\n",
       " 'Conta Salario': 2,\n",
       " 'Quant Adiantamento Deposito': 16,\n",
       " 'Qtd Fonte Renda': 4,\n",
       " 'Cheque Sem Fundo': 2,\n",
       " 'Conta Conjunta': 2,\n",
       " 'Valor Conta Corrente': 1,\n",
       " 'Valor Conta Poupanca': 1,\n",
       " 'Valor Emprestimo': 28577,\n",
       " 'Multa': 33777,\n",
       " 'Juros': 42139,\n",
       " 'Valor Emprestimo Atualizado': 43191,\n",
       " 'PAGO': 2,\n",
       " 'Controle': 1,\n",
       " 'Genero': 2,\n",
       " 'Data': 1,\n",
       " 'Estado': 4}"
      ]
     },
     "execution_count": 9,
     "metadata": {},
     "output_type": "execute_result"
    }
   ],
   "source": [
    "{ col: df[col].unique().size for col in df.columns }"
   ]
  },
  {
   "cell_type": "markdown",
   "metadata": {},
   "source": [
    "### Remove features with unique values"
   ]
  },
  {
   "cell_type": "code",
   "execution_count": 10,
   "metadata": {},
   "outputs": [],
   "source": [
    "unique_value_features = [col for col in df.columns if df[col].unique().size == 1]\n",
    "df = df.drop(columns=unique_value_features, errors='ignore')"
   ]
  },
  {
   "cell_type": "markdown",
   "metadata": {},
   "source": [
    "### Analyze proportion of missing values of each feature"
   ]
  },
  {
   "cell_type": "code",
   "execution_count": 11,
   "metadata": {},
   "outputs": [
    {
     "data": {
      "text/plain": [
       "Renda Mensal Informal          0.806152\n",
       "Qtd Fonte Renda                0.745862\n",
       "Escolaridade                   0.709962\n",
       "Quant Adiantamento Deposito    0.566521\n",
       "Valor Emprestimo Atualizado    0.000000\n",
       "Juros                          0.000000\n",
       "Multa                          0.000000\n",
       "Valor Emprestimo               0.000000\n",
       "Conta Conjunta                 0.000000\n",
       "Cheque Sem Fundo               0.000000\n",
       "Genero                         0.000000\n",
       "Conta Salario                  0.000000\n",
       "Conta Poupanca                 0.000000\n",
       "Idade                          0.000000\n",
       "Estado Civil                   0.000000\n",
       "Dependentes                    0.000000\n",
       "PAGO                           0.000000\n",
       "Estado                         0.000000\n",
       "dtype: float64"
      ]
     },
     "execution_count": 11,
     "metadata": {},
     "output_type": "execute_result"
    }
   ],
   "source": [
    "df.isnull().mean().sort_values(ascending=False)"
   ]
  },
  {
   "cell_type": "markdown",
   "metadata": {},
   "source": [
    "### Removing columns with a proportion of missing values above a threshold"
   ]
  },
  {
   "cell_type": "code",
   "execution_count": 12,
   "metadata": {},
   "outputs": [],
   "source": [
    "above_percentage_nan_features = [col for col in df.columns if df[col].isnull().mean() >= 0.8]\n",
    "df = df.drop(columns=above_percentage_nan_features, errors='ignore')"
   ]
  },
  {
   "cell_type": "code",
   "execution_count": 13,
   "metadata": {},
   "outputs": [
    {
     "name": "stdout",
     "output_type": "stream",
     "text": [
      "<class 'pandas.core.frame.DataFrame'>\n",
      "RangeIndex: 50390 entries, 0 to 50389\n",
      "Data columns (total 17 columns):\n",
      " #   Column                       Non-Null Count  Dtype  \n",
      "---  ------                       --------------  -----  \n",
      " 0   Escolaridade                 14615 non-null  float64\n",
      " 1   Dependentes                  50390 non-null  object \n",
      " 2   Estado Civil                 50390 non-null  int64  \n",
      " 3   Idade                        50390 non-null  int64  \n",
      " 4   Conta Poupanca               50390 non-null  object \n",
      " 5   Conta Salario                50390 non-null  object \n",
      " 6   Quant Adiantamento Deposito  21843 non-null  float64\n",
      " 7   Qtd Fonte Renda              12806 non-null  float64\n",
      " 8   Cheque Sem Fundo             50390 non-null  object \n",
      " 9   Conta Conjunta               50390 non-null  object \n",
      " 10  Valor Emprestimo             50390 non-null  float64\n",
      " 11  Multa                        50390 non-null  float64\n",
      " 12  Juros                        50390 non-null  float64\n",
      " 13  Valor Emprestimo Atualizado  50390 non-null  float64\n",
      " 14  PAGO                         50390 non-null  int64  \n",
      " 15  Genero                       50390 non-null  int64  \n",
      " 16  Estado                       50390 non-null  int64  \n",
      "dtypes: float64(7), int64(5), object(5)\n",
      "memory usage: 6.5+ MB\n"
     ]
    }
   ],
   "source": [
    "df.info()"
   ]
  },
  {
   "cell_type": "markdown",
   "metadata": {},
   "source": [
    "### Analyze proportion of target values"
   ]
  },
  {
   "cell_type": "code",
   "execution_count": 14,
   "metadata": {},
   "outputs": [
    {
     "data": {
      "text/plain": [
       "1    0.790891\n",
       "0    0.209109\n",
       "Name: PAGO, dtype: float64"
      ]
     },
     "execution_count": 14,
     "metadata": {},
     "output_type": "execute_result"
    },
    {
     "data": {
      "image/png": "[encoded data removed]",
      "text/plain": [
       "<Figure size 432x288 with 1 Axes>"
      ]
     },
     "metadata": {
      "needs_background": "light"
     },
     "output_type": "display_data"
    }
   ],
   "source": [
    "sns.countplot(df[target].values)\n",
    "df[target].value_counts() / df.shape[0]"
   ]
  },
  {
   "cell_type": "code",
   "execution_count": 15,
   "metadata": {},
   "outputs": [],
   "source": [
    "cat = ['Escolaridade', 'Dependentes', 'Estado Civil', 'Conta Poupanca', 'Conta Salario', 'Qtd Fonte Renda',\n",
    "    'Cheque Sem Fundo', 'Conta Conjunta', 'Genero', 'Estado']\n",
    "num = ['Idade', 'Quant Adiantamento Deposito', 'Valor Emprestimo', 'Multa', 'Juros',\n",
    "    'Valor Emprestimo Atualizado']"
   ]
  },
  {
   "cell_type": "markdown",
   "metadata": {},
   "source": [
    "### Analyze numerical features"
   ]
  },
  {
   "cell_type": "code",
   "execution_count": 16,
   "metadata": {},
   "outputs": [
    {
     "data": {
      "image/png": "[encoded data removed]",
      "text/plain": [
       "<Figure size 864x720 with 6 Axes>"
      ]
     },
     "metadata": {
      "needs_background": "light"
     },
     "output_type": "display_data"
    }
   ],
   "source": [
    "ncols = 2\n",
    "nrows = 3\n",
    "fig, ax = plt.subplots(ncols=ncols, nrows=nrows, figsize=(12,10))\n",
    "\n",
    "for i, col in enumerate(num):\n",
    "    c = i % ncols\n",
    "    r = i // ncols\n",
    "    \n",
    "    sns.boxplot(x=target, y=col, data=df, ax=ax[r][c])"
   ]
  },
  {
   "cell_type": "code",
   "execution_count": 17,
   "metadata": {},
   "outputs": [
    {
     "data": {
      "text/plain": [
       "<matplotlib.legend.Legend at 0x4383da15c8>"
      ]
     },
     "execution_count": 17,
     "metadata": {},
     "output_type": "execute_result"
    },
    {
     "data": {
      "image/png": "[encoded data removed]",
      "text/plain": [
       "<Figure size 864x720 with 6 Axes>"
      ]
     },
     "metadata": {
      "needs_background": "light"
     },
     "output_type": "display_data"
    }
   ],
   "source": [
    "ncols = 2\n",
    "nrows = 3\n",
    "fig, ax = plt.subplots(ncols=ncols, nrows=nrows, figsize=(12,10))\n",
    "\n",
    "for i, col in enumerate(num):\n",
    "    c = i % ncols\n",
    "    r = i // ncols\n",
    "    \n",
    "    df_0_col_vc = df[df[target] == 0][col].value_counts(normalize=True)\n",
    "    df_1_col_vc = df[df[target] == 1][col].value_counts(normalize=True)\n",
    "    \n",
    "    sns.distplot(df_0_col_vc, hist=False, ax=ax[r][c])\n",
    "    sns.distplot(df_1_col_vc, hist=False, ax=ax[r][c])\n",
    "    \n",
    "fig.legend(labels=['%s = 0' % target, '%s = 1' % target])"
   ]
  },
  {
   "cell_type": "code",
   "execution_count": 20,
   "metadata": {},
   "outputs": [
    {
     "data": {
      "image/png": "[encoded data removed]",
      "text/plain": [
       "<Figure size 864x720 with 4 Axes>"
      ]
     },
     "metadata": {
      "needs_background": "light"
     },
     "output_type": "display_data"
    }
   ],
   "source": [
    "ncols = 2\n",
    "nrows = 2\n",
    "fig, ax = plt.subplots(ncols=ncols, nrows=nrows, figsize=(12,10))\n",
    "\n",
    "for i, col in enumerate(['Valor Emprestimo', 'Multa', 'Juros', 'Valor Emprestimo Atualizado']):\n",
    "    c = i % ncols\n",
    "    r = i // ncols\n",
    "    \n",
    "    q1, q3 = df[col].quantile([0.25, 0.75])\n",
    "    iqr = q3 - q1\n",
    "    min_not_outlier = q1 - 1.5 * iqr\n",
    "    max_not_outlier = q3 + 1.5 * iqr\n",
    "    \n",
    "    df_interval_by_col = df[df[col].between(min_not_outlier, max_not_outlier)]\n",
    "    \n",
    "    sns.boxplot(x=target, y=col, data=df_interval_by_col, ax=ax[r][c])"
   ]
  },
  {
   "cell_type": "markdown",
   "metadata": {},
   "source": [
    "### Analyze categorical features"
   ]
  },
  {
   "cell_type": "code",
   "execution_count": 197,
   "metadata": {},
   "outputs": [
    {
     "data": {
      "image/png": "[encoded data removed]",
      "text/plain": [
       "<Figure size 864x3168 with 20 Axes>"
      ]
     },
     "metadata": {
      "needs_background": "light"
     },
     "output_type": "display_data"
    }
   ],
   "source": [
    "ncols = 2\n",
    "nrows = 10\n",
    "fig, ax = plt.subplots(ncols=ncols, nrows=nrows, figsize=(12, 44))\n",
    "\n",
    "for i, col in enumerate(cat):\n",
    "    c = (i * 2) % ncols\n",
    "    r = (i * 2) // ncols\n",
    "    for p in [0, 1]:\n",
    "        ax[r][c+p].title.set_text('%s, %s = %s' % (col, target, p))\n",
    "        sns.countplot(df[df[target] == p][col].values, x=col, ax=ax[r][c+p])"
   ]
  },
  {
   "cell_type": "markdown",
   "metadata": {},
   "source": [
    "### Notes\n",
    "\n",
    "- if 'Dependentes' == 'S', more likely to 'PAGO' == 1;\n",
    "- if 'Estado Civil' == '2', more likely to 'PAGO' == 1;\n",
    "- if 'Estado Civil' == '4', more likely to 'PAGO' == 0;\n",
    "- if 'Cheque Sem Fundo' == '1', more likely to 'PAGO' == 1;"
   ]
  },
  {
   "cell_type": "code",
   "execution_count": 20,
   "metadata": {},
   "outputs": [
    {
     "data": {
      "text/plain": [
       "<matplotlib.axes._subplots.AxesSubplot at 0x5318892ec8>"
      ]
     },
     "execution_count": 20,
     "metadata": {},
     "output_type": "execute_result"
    },
    {
     "data": {
      "image/png": "[encoded data removed]",
      "text/plain": [
       "<Figure size 432x288 with 2 Axes>"
      ]
     },
     "metadata": {
      "needs_background": "light"
     },
     "output_type": "display_data"
    }
   ],
   "source": [
    "corr_matrix = df.drop(target, axis=1).corr().abs()\n",
    "sns.heatmap(corr_matrix)"
   ]
  },
  {
   "cell_type": "code",
   "execution_count": 21,
   "metadata": {},
   "outputs": [
    {
     "name": "stdout",
     "output_type": "stream",
     "text": [
      "['Juros', 'Valor Emprestimo Atualizado']\n"
     ]
    }
   ],
   "source": [
    "corr_upper_matrix = corr_matrix.where(np.triu(np.ones(corr_matrix.shape), k=1).astype(np.bool))\n",
    "high_corr_cols = [col for col in corr_upper_matrix.columns if any(corr_upper_matrix[col] > 0.95)]\n",
    "\n",
    "print(high_corr_cols)\n",
    "df = df.drop(columns=high_corr_cols, errors='ignore')"
   ]
  },
  {
   "cell_type": "markdown",
   "metadata": {},
   "source": [
    "### Handle missing values"
   ]
  },
  {
   "cell_type": "code",
   "execution_count": 22,
   "metadata": {},
   "outputs": [],
   "source": [
    "df = df.fillna(0)"
   ]
  },
  {
   "cell_type": "code",
   "execution_count": 23,
   "metadata": {},
   "outputs": [],
   "source": [
    "cat = ['Escolaridade', 'Dependentes', 'Estado Civil', 'Conta Poupanca', 'Conta Salario', 'Qtd Fonte Renda',\n",
    "    'Cheque Sem Fundo', 'Conta Conjunta', 'Genero', 'Estado']\n",
    "num = ['Idade', 'Quant Adiantamento Deposito', 'Valor Emprestimo', 'Multa']"
   ]
  },
  {
   "cell_type": "markdown",
   "metadata": {},
   "source": [
    "### Split dataset"
   ]
  },
  {
   "cell_type": "code",
   "execution_count": 24,
   "metadata": {},
   "outputs": [],
   "source": [
    "X = df.drop(target, axis=1)\n",
    "y = df[target]\n",
    "\n",
    "X_train, X_test, y_train, y_test = train_test_split(X, y, test_size=0.2, random_state=42, stratify=y)"
   ]
  },
  {
   "cell_type": "markdown",
   "metadata": {},
   "source": [
    "### Feature selection (categorical)"
   ]
  },
  {
   "cell_type": "code",
   "execution_count": 25,
   "metadata": {},
   "outputs": [
    {
     "data": {
      "text/html": [
       "<div>\n",
       "<style scoped>\n",
       "    .dataframe tbody tr th:only-of-type {\n",
       "        vertical-align: middle;\n",
       "    }\n",
       "\n",
       "    .dataframe tbody tr th {\n",
       "        vertical-align: top;\n",
       "    }\n",
       "\n",
       "    .dataframe thead th {\n",
       "        text-align: right;\n",
       "    }\n",
       "</style>\n",
       "<table border=\"1\" class=\"dataframe\">\n",
       "  <thead>\n",
       "    <tr style=\"text-align: right;\">\n",
       "      <th></th>\n",
       "      <th>features</th>\n",
       "      <th>p_values</th>\n",
       "    </tr>\n",
       "  </thead>\n",
       "  <tbody>\n",
       "    <tr>\n",
       "      <th>1</th>\n",
       "      <td>Dependentes</td>\n",
       "      <td>0.000000e+00</td>\n",
       "    </tr>\n",
       "    <tr>\n",
       "      <th>2</th>\n",
       "      <td>Estado Civil</td>\n",
       "      <td>0.000000e+00</td>\n",
       "    </tr>\n",
       "    <tr>\n",
       "      <th>6</th>\n",
       "      <td>Cheque Sem Fundo</td>\n",
       "      <td>1.855636e-212</td>\n",
       "    </tr>\n",
       "    <tr>\n",
       "      <th>0</th>\n",
       "      <td>Escolaridade</td>\n",
       "      <td>4.354686e-206</td>\n",
       "    </tr>\n",
       "    <tr>\n",
       "      <th>5</th>\n",
       "      <td>Qtd Fonte Renda</td>\n",
       "      <td>8.393099e-145</td>\n",
       "    </tr>\n",
       "    <tr>\n",
       "      <th>7</th>\n",
       "      <td>Conta Conjunta</td>\n",
       "      <td>8.754044e-18</td>\n",
       "    </tr>\n",
       "    <tr>\n",
       "      <th>3</th>\n",
       "      <td>Conta Poupanca</td>\n",
       "      <td>5.484030e-14</td>\n",
       "    </tr>\n",
       "    <tr>\n",
       "      <th>4</th>\n",
       "      <td>Conta Salario</td>\n",
       "      <td>3.181974e-06</td>\n",
       "    </tr>\n",
       "    <tr>\n",
       "      <th>8</th>\n",
       "      <td>Genero</td>\n",
       "      <td>1.033840e-01</td>\n",
       "    </tr>\n",
       "    <tr>\n",
       "      <th>9</th>\n",
       "      <td>Estado</td>\n",
       "      <td>6.796148e-01</td>\n",
       "    </tr>\n",
       "  </tbody>\n",
       "</table>\n",
       "</div>"
      ],
      "text/plain": [
       "           features       p_values\n",
       "1       Dependentes   0.000000e+00\n",
       "2      Estado Civil   0.000000e+00\n",
       "6  Cheque Sem Fundo  1.855636e-212\n",
       "0      Escolaridade  4.354686e-206\n",
       "5   Qtd Fonte Renda  8.393099e-145\n",
       "7    Conta Conjunta   8.754044e-18\n",
       "3    Conta Poupanca   5.484030e-14\n",
       "4     Conta Salario   3.181974e-06\n",
       "8            Genero   1.033840e-01\n",
       "9            Estado   6.796148e-01"
      ]
     },
     "execution_count": 25,
     "metadata": {},
     "output_type": "execute_result"
    }
   ],
   "source": [
    "X_train_cat = X_train[cat].copy()\n",
    "\n",
    "chi2 = { 'features': [], 'p_values': [] }\n",
    "for col in cat:\n",
    "    _, p_value, _, _ = scipy.stats.chi2_contingency(pd.crosstab(y_train, X_train_cat[col]))\n",
    "    chi2['features'].append(col)\n",
    "    chi2['p_values'].append(p_value)\n",
    "    \n",
    "df_chi2 = pd.DataFrame(data=chi2).sort_values(by='p_values', ascending=True)\n",
    "df_chi2"
   ]
  },
  {
   "cell_type": "markdown",
   "metadata": {},
   "source": [
    "### Feature selection (numerical)"
   ]
  },
  {
   "cell_type": "code",
   "execution_count": 26,
   "metadata": {},
   "outputs": [
    {
     "data": {
      "text/html": [
       "<div>\n",
       "<style scoped>\n",
       "    .dataframe tbody tr th:only-of-type {\n",
       "        vertical-align: middle;\n",
       "    }\n",
       "\n",
       "    .dataframe tbody tr th {\n",
       "        vertical-align: top;\n",
       "    }\n",
       "\n",
       "    .dataframe thead th {\n",
       "        text-align: right;\n",
       "    }\n",
       "</style>\n",
       "<table border=\"1\" class=\"dataframe\">\n",
       "  <thead>\n",
       "    <tr style=\"text-align: right;\">\n",
       "      <th></th>\n",
       "      <th>features</th>\n",
       "      <th>F_score</th>\n",
       "      <th>p_values</th>\n",
       "    </tr>\n",
       "  </thead>\n",
       "  <tbody>\n",
       "    <tr>\n",
       "      <th>3</th>\n",
       "      <td>Multa</td>\n",
       "      <td>155.897606</td>\n",
       "      <td>1.037940e-35</td>\n",
       "    </tr>\n",
       "    <tr>\n",
       "      <th>2</th>\n",
       "      <td>Valor Emprestimo</td>\n",
       "      <td>152.345137</td>\n",
       "      <td>6.159799e-35</td>\n",
       "    </tr>\n",
       "    <tr>\n",
       "      <th>1</th>\n",
       "      <td>Quant Adiantamento Deposito</td>\n",
       "      <td>31.781137</td>\n",
       "      <td>1.737119e-08</td>\n",
       "    </tr>\n",
       "    <tr>\n",
       "      <th>0</th>\n",
       "      <td>Idade</td>\n",
       "      <td>19.430252</td>\n",
       "      <td>1.046104e-05</td>\n",
       "    </tr>\n",
       "  </tbody>\n",
       "</table>\n",
       "</div>"
      ],
      "text/plain": [
       "                      features     F_score      p_values\n",
       "3                        Multa  155.897606  1.037940e-35\n",
       "2             Valor Emprestimo  152.345137  6.159799e-35\n",
       "1  Quant Adiantamento Deposito   31.781137  1.737119e-08\n",
       "0                        Idade   19.430252  1.046104e-05"
      ]
     },
     "execution_count": 26,
     "metadata": {},
     "output_type": "execute_result"
    }
   ],
   "source": [
    "X_train_num = X_train[num].copy()\n",
    "\n",
    "F_statistic, p_values = f_classif(X_train_num, y_train)\n",
    "ANOVA_F = { 'features': X_train_num.columns.values, 'F_score': F_statistic, 'p_values': p_values }\n",
    "\n",
    "df_ANOVA_F = pd.DataFrame(data=ANOVA_F).sort_values(by='F_score', ascending=False)\n",
    "df_ANOVA_F"
   ]
  },
  {
   "cell_type": "code",
   "execution_count": 27,
   "metadata": {},
   "outputs": [
    {
     "data": {
      "text/html": [
       "<div>\n",
       "<style scoped>\n",
       "    .dataframe tbody tr th:only-of-type {\n",
       "        vertical-align: middle;\n",
       "    }\n",
       "\n",
       "    .dataframe tbody tr th {\n",
       "        vertical-align: top;\n",
       "    }\n",
       "\n",
       "    .dataframe thead th {\n",
       "        text-align: right;\n",
       "    }\n",
       "</style>\n",
       "<table border=\"1\" class=\"dataframe\">\n",
       "  <thead>\n",
       "    <tr style=\"text-align: right;\">\n",
       "      <th></th>\n",
       "      <th>Dependentes</th>\n",
       "      <th>Estado Civil</th>\n",
       "      <th>Cheque Sem Fundo</th>\n",
       "      <th>Escolaridade</th>\n",
       "      <th>Qtd Fonte Renda</th>\n",
       "      <th>Conta Conjunta</th>\n",
       "      <th>Conta Poupanca</th>\n",
       "      <th>Conta Salario</th>\n",
       "      <th>Multa</th>\n",
       "      <th>Valor Emprestimo</th>\n",
       "      <th>Quant Adiantamento Deposito</th>\n",
       "      <th>Idade</th>\n",
       "    </tr>\n",
       "  </thead>\n",
       "  <tbody>\n",
       "    <tr>\n",
       "      <th>36935</th>\n",
       "      <td>N</td>\n",
       "      <td>2</td>\n",
       "      <td>S</td>\n",
       "      <td>1.0</td>\n",
       "      <td>1.0</td>\n",
       "      <td>N</td>\n",
       "      <td>S</td>\n",
       "      <td>N</td>\n",
       "      <td>1629.75</td>\n",
       "      <td>4852.49</td>\n",
       "      <td>2.0</td>\n",
       "      <td>28</td>\n",
       "    </tr>\n",
       "    <tr>\n",
       "      <th>393</th>\n",
       "      <td>S</td>\n",
       "      <td>2</td>\n",
       "      <td>N</td>\n",
       "      <td>1.0</td>\n",
       "      <td>0.0</td>\n",
       "      <td>N</td>\n",
       "      <td>S</td>\n",
       "      <td>N</td>\n",
       "      <td>97.26</td>\n",
       "      <td>4024.45</td>\n",
       "      <td>0.0</td>\n",
       "      <td>30</td>\n",
       "    </tr>\n",
       "    <tr>\n",
       "      <th>47806</th>\n",
       "      <td>N</td>\n",
       "      <td>4</td>\n",
       "      <td>N</td>\n",
       "      <td>0.0</td>\n",
       "      <td>0.0</td>\n",
       "      <td>N</td>\n",
       "      <td>S</td>\n",
       "      <td>N</td>\n",
       "      <td>9600.99</td>\n",
       "      <td>20794.94</td>\n",
       "      <td>2.0</td>\n",
       "      <td>26</td>\n",
       "    </tr>\n",
       "    <tr>\n",
       "      <th>32448</th>\n",
       "      <td>N</td>\n",
       "      <td>2</td>\n",
       "      <td>N</td>\n",
       "      <td>0.0</td>\n",
       "      <td>0.0</td>\n",
       "      <td>N</td>\n",
       "      <td>S</td>\n",
       "      <td>N</td>\n",
       "      <td>297.58</td>\n",
       "      <td>9032.51</td>\n",
       "      <td>2.0</td>\n",
       "      <td>30</td>\n",
       "    </tr>\n",
       "    <tr>\n",
       "      <th>995</th>\n",
       "      <td>N</td>\n",
       "      <td>4</td>\n",
       "      <td>N</td>\n",
       "      <td>0.0</td>\n",
       "      <td>0.0</td>\n",
       "      <td>N</td>\n",
       "      <td>S</td>\n",
       "      <td>N</td>\n",
       "      <td>12.00</td>\n",
       "      <td>1893.00</td>\n",
       "      <td>0.0</td>\n",
       "      <td>46</td>\n",
       "    </tr>\n",
       "  </tbody>\n",
       "</table>\n",
       "</div>"
      ],
      "text/plain": [
       "      Dependentes  Estado Civil Cheque Sem Fundo  Escolaridade  \\\n",
       "36935           N             2                S           1.0   \n",
       "393             S             2                N           1.0   \n",
       "47806           N             4                N           0.0   \n",
       "32448           N             2                N           0.0   \n",
       "995             N             4                N           0.0   \n",
       "\n",
       "       Qtd Fonte Renda Conta Conjunta Conta Poupanca Conta Salario    Multa  \\\n",
       "36935              1.0              N              S             N  1629.75   \n",
       "393                0.0              N              S             N    97.26   \n",
       "47806              0.0              N              S             N  9600.99   \n",
       "32448              0.0              N              S             N   297.58   \n",
       "995                0.0              N              S             N    12.00   \n",
       "\n",
       "       Valor Emprestimo  Quant Adiantamento Deposito  Idade  \n",
       "36935           4852.49                          2.0     28  \n",
       "393             4024.45                          0.0     30  \n",
       "47806          20794.94                          2.0     26  \n",
       "32448           9032.51                          2.0     30  \n",
       "995             1893.00                          0.0     46  "
      ]
     },
     "execution_count": 27,
     "metadata": {},
     "output_type": "execute_result"
    }
   ],
   "source": [
    "cat_best = df_chi2[df_chi2['p_values'] < 0.05]['features'].values.tolist()\n",
    "num_best = df_ANOVA_F[df_ANOVA_F['p_values'] < 0.05]['features'].values.tolist()\n",
    "\n",
    "X_train = X_train[cat_best + num_best]\n",
    "X_test = X_test[cat_best + num_best]\n",
    "\n",
    "X_train.head()"
   ]
  },
  {
   "cell_type": "markdown",
   "metadata": {},
   "source": [
    "### One-hot encoding categorical features"
   ]
  },
  {
   "cell_type": "code",
   "execution_count": 28,
   "metadata": {},
   "outputs": [
    {
     "data": {
      "text/html": [
       "<div>\n",
       "<style scoped>\n",
       "    .dataframe tbody tr th:only-of-type {\n",
       "        vertical-align: middle;\n",
       "    }\n",
       "\n",
       "    .dataframe tbody tr th {\n",
       "        vertical-align: top;\n",
       "    }\n",
       "\n",
       "    .dataframe thead th {\n",
       "        text-align: right;\n",
       "    }\n",
       "</style>\n",
       "<table border=\"1\" class=\"dataframe\">\n",
       "  <thead>\n",
       "    <tr style=\"text-align: right;\">\n",
       "      <th></th>\n",
       "      <th>Multa</th>\n",
       "      <th>Valor Emprestimo</th>\n",
       "      <th>Quant Adiantamento Deposito</th>\n",
       "      <th>Idade</th>\n",
       "      <th>Dependentes_N</th>\n",
       "      <th>Dependentes_S</th>\n",
       "      <th>Estado Civil_1</th>\n",
       "      <th>Estado Civil_2</th>\n",
       "      <th>Estado Civil_3</th>\n",
       "      <th>Estado Civil_4</th>\n",
       "      <th>...</th>\n",
       "      <th>Qtd Fonte Renda_0.0</th>\n",
       "      <th>Qtd Fonte Renda_1.0</th>\n",
       "      <th>Qtd Fonte Renda_2.0</th>\n",
       "      <th>Qtd Fonte Renda_3.0</th>\n",
       "      <th>Conta Conjunta_N</th>\n",
       "      <th>Conta Conjunta_S</th>\n",
       "      <th>Conta Poupanca_N</th>\n",
       "      <th>Conta Poupanca_S</th>\n",
       "      <th>Conta Salario_N</th>\n",
       "      <th>Conta Salario_S</th>\n",
       "    </tr>\n",
       "  </thead>\n",
       "  <tbody>\n",
       "    <tr>\n",
       "      <th>36935</th>\n",
       "      <td>1629.75</td>\n",
       "      <td>4852.49</td>\n",
       "      <td>2.0</td>\n",
       "      <td>28</td>\n",
       "      <td>1</td>\n",
       "      <td>0</td>\n",
       "      <td>0</td>\n",
       "      <td>1</td>\n",
       "      <td>0</td>\n",
       "      <td>0</td>\n",
       "      <td>...</td>\n",
       "      <td>0</td>\n",
       "      <td>1</td>\n",
       "      <td>0</td>\n",
       "      <td>0</td>\n",
       "      <td>1</td>\n",
       "      <td>0</td>\n",
       "      <td>0</td>\n",
       "      <td>1</td>\n",
       "      <td>1</td>\n",
       "      <td>0</td>\n",
       "    </tr>\n",
       "    <tr>\n",
       "      <th>393</th>\n",
       "      <td>97.26</td>\n",
       "      <td>4024.45</td>\n",
       "      <td>0.0</td>\n",
       "      <td>30</td>\n",
       "      <td>0</td>\n",
       "      <td>1</td>\n",
       "      <td>0</td>\n",
       "      <td>1</td>\n",
       "      <td>0</td>\n",
       "      <td>0</td>\n",
       "      <td>...</td>\n",
       "      <td>1</td>\n",
       "      <td>0</td>\n",
       "      <td>0</td>\n",
       "      <td>0</td>\n",
       "      <td>1</td>\n",
       "      <td>0</td>\n",
       "      <td>0</td>\n",
       "      <td>1</td>\n",
       "      <td>1</td>\n",
       "      <td>0</td>\n",
       "    </tr>\n",
       "    <tr>\n",
       "      <th>47806</th>\n",
       "      <td>9600.99</td>\n",
       "      <td>20794.94</td>\n",
       "      <td>2.0</td>\n",
       "      <td>26</td>\n",
       "      <td>1</td>\n",
       "      <td>0</td>\n",
       "      <td>0</td>\n",
       "      <td>0</td>\n",
       "      <td>0</td>\n",
       "      <td>1</td>\n",
       "      <td>...</td>\n",
       "      <td>1</td>\n",
       "      <td>0</td>\n",
       "      <td>0</td>\n",
       "      <td>0</td>\n",
       "      <td>1</td>\n",
       "      <td>0</td>\n",
       "      <td>0</td>\n",
       "      <td>1</td>\n",
       "      <td>1</td>\n",
       "      <td>0</td>\n",
       "    </tr>\n",
       "    <tr>\n",
       "      <th>32448</th>\n",
       "      <td>297.58</td>\n",
       "      <td>9032.51</td>\n",
       "      <td>2.0</td>\n",
       "      <td>30</td>\n",
       "      <td>1</td>\n",
       "      <td>0</td>\n",
       "      <td>0</td>\n",
       "      <td>1</td>\n",
       "      <td>0</td>\n",
       "      <td>0</td>\n",
       "      <td>...</td>\n",
       "      <td>1</td>\n",
       "      <td>0</td>\n",
       "      <td>0</td>\n",
       "      <td>0</td>\n",
       "      <td>1</td>\n",
       "      <td>0</td>\n",
       "      <td>0</td>\n",
       "      <td>1</td>\n",
       "      <td>1</td>\n",
       "      <td>0</td>\n",
       "    </tr>\n",
       "    <tr>\n",
       "      <th>995</th>\n",
       "      <td>12.00</td>\n",
       "      <td>1893.00</td>\n",
       "      <td>0.0</td>\n",
       "      <td>46</td>\n",
       "      <td>1</td>\n",
       "      <td>0</td>\n",
       "      <td>0</td>\n",
       "      <td>0</td>\n",
       "      <td>0</td>\n",
       "      <td>1</td>\n",
       "      <td>...</td>\n",
       "      <td>1</td>\n",
       "      <td>0</td>\n",
       "      <td>0</td>\n",
       "      <td>0</td>\n",
       "      <td>1</td>\n",
       "      <td>0</td>\n",
       "      <td>0</td>\n",
       "      <td>1</td>\n",
       "      <td>1</td>\n",
       "      <td>0</td>\n",
       "    </tr>\n",
       "  </tbody>\n",
       "</table>\n",
       "<p>5 rows × 31 columns</p>\n",
       "</div>"
      ],
      "text/plain": [
       "         Multa  Valor Emprestimo  Quant Adiantamento Deposito  Idade  \\\n",
       "36935  1629.75           4852.49                          2.0     28   \n",
       "393      97.26           4024.45                          0.0     30   \n",
       "47806  9600.99          20794.94                          2.0     26   \n",
       "32448   297.58           9032.51                          2.0     30   \n",
       "995      12.00           1893.00                          0.0     46   \n",
       "\n",
       "       Dependentes_N  Dependentes_S  Estado Civil_1  Estado Civil_2  \\\n",
       "36935              1              0               0               1   \n",
       "393                0              1               0               1   \n",
       "47806              1              0               0               0   \n",
       "32448              1              0               0               1   \n",
       "995                1              0               0               0   \n",
       "\n",
       "       Estado Civil_3  Estado Civil_4  ...  Qtd Fonte Renda_0.0  \\\n",
       "36935               0               0  ...                    0   \n",
       "393                 0               0  ...                    1   \n",
       "47806               0               1  ...                    1   \n",
       "32448               0               0  ...                    1   \n",
       "995                 0               1  ...                    1   \n",
       "\n",
       "       Qtd Fonte Renda_1.0  Qtd Fonte Renda_2.0  Qtd Fonte Renda_3.0  \\\n",
       "36935                    1                    0                    0   \n",
       "393                      0                    0                    0   \n",
       "47806                    0                    0                    0   \n",
       "32448                    0                    0                    0   \n",
       "995                      0                    0                    0   \n",
       "\n",
       "       Conta Conjunta_N  Conta Conjunta_S  Conta Poupanca_N  Conta Poupanca_S  \\\n",
       "36935                 1                 0                 0                 1   \n",
       "393                   1                 0                 0                 1   \n",
       "47806                 1                 0                 0                 1   \n",
       "32448                 1                 0                 0                 1   \n",
       "995                   1                 0                 0                 1   \n",
       "\n",
       "       Conta Salario_N  Conta Salario_S  \n",
       "36935                1                0  \n",
       "393                  1                0  \n",
       "47806                1                0  \n",
       "32448                1                0  \n",
       "995                  1                0  \n",
       "\n",
       "[5 rows x 31 columns]"
      ]
     },
     "execution_count": 28,
     "metadata": {},
     "output_type": "execute_result"
    }
   ],
   "source": [
    "for col in cat_best:\n",
    "    one_hot_col = pd.get_dummies(df[col], prefix=col)\n",
    "    \n",
    "    X_train = X_train.drop(col, axis=1).join(one_hot_col)\n",
    "    X_test = X_test.drop(col, axis=1).join(one_hot_col)\n",
    "    \n",
    "X_train.head()"
   ]
  },
  {
   "cell_type": "markdown",
   "metadata": {},
   "source": [
    "### Scale numerical features"
   ]
  },
  {
   "cell_type": "code",
   "execution_count": 29,
   "metadata": {},
   "outputs": [
    {
     "data": {
      "text/html": [
       "<div>\n",
       "<style scoped>\n",
       "    .dataframe tbody tr th:only-of-type {\n",
       "        vertical-align: middle;\n",
       "    }\n",
       "\n",
       "    .dataframe tbody tr th {\n",
       "        vertical-align: top;\n",
       "    }\n",
       "\n",
       "    .dataframe thead th {\n",
       "        text-align: right;\n",
       "    }\n",
       "</style>\n",
       "<table border=\"1\" class=\"dataframe\">\n",
       "  <thead>\n",
       "    <tr style=\"text-align: right;\">\n",
       "      <th></th>\n",
       "      <th>Multa</th>\n",
       "      <th>Valor Emprestimo</th>\n",
       "      <th>Quant Adiantamento Deposito</th>\n",
       "      <th>Idade</th>\n",
       "      <th>Dependentes_N</th>\n",
       "      <th>Dependentes_S</th>\n",
       "      <th>Estado Civil_1</th>\n",
       "      <th>Estado Civil_2</th>\n",
       "      <th>Estado Civil_3</th>\n",
       "      <th>Estado Civil_4</th>\n",
       "      <th>...</th>\n",
       "      <th>Qtd Fonte Renda_0.0</th>\n",
       "      <th>Qtd Fonte Renda_1.0</th>\n",
       "      <th>Qtd Fonte Renda_2.0</th>\n",
       "      <th>Qtd Fonte Renda_3.0</th>\n",
       "      <th>Conta Conjunta_N</th>\n",
       "      <th>Conta Conjunta_S</th>\n",
       "      <th>Conta Poupanca_N</th>\n",
       "      <th>Conta Poupanca_S</th>\n",
       "      <th>Conta Salario_N</th>\n",
       "      <th>Conta Salario_S</th>\n",
       "    </tr>\n",
       "  </thead>\n",
       "  <tbody>\n",
       "    <tr>\n",
       "      <th>36935</th>\n",
       "      <td>-0.035598</td>\n",
       "      <td>-0.042226</td>\n",
       "      <td>0.918089</td>\n",
       "      <td>-0.434888</td>\n",
       "      <td>1</td>\n",
       "      <td>0</td>\n",
       "      <td>0</td>\n",
       "      <td>1</td>\n",
       "      <td>0</td>\n",
       "      <td>0</td>\n",
       "      <td>...</td>\n",
       "      <td>0</td>\n",
       "      <td>1</td>\n",
       "      <td>0</td>\n",
       "      <td>0</td>\n",
       "      <td>1</td>\n",
       "      <td>0</td>\n",
       "      <td>0</td>\n",
       "      <td>1</td>\n",
       "      <td>1</td>\n",
       "      <td>0</td>\n",
       "    </tr>\n",
       "    <tr>\n",
       "      <th>393</th>\n",
       "      <td>-0.036783</td>\n",
       "      <td>-0.043077</td>\n",
       "      <td>-0.764413</td>\n",
       "      <td>-0.200002</td>\n",
       "      <td>0</td>\n",
       "      <td>1</td>\n",
       "      <td>0</td>\n",
       "      <td>1</td>\n",
       "      <td>0</td>\n",
       "      <td>0</td>\n",
       "      <td>...</td>\n",
       "      <td>1</td>\n",
       "      <td>0</td>\n",
       "      <td>0</td>\n",
       "      <td>0</td>\n",
       "      <td>1</td>\n",
       "      <td>0</td>\n",
       "      <td>0</td>\n",
       "      <td>1</td>\n",
       "      <td>1</td>\n",
       "      <td>0</td>\n",
       "    </tr>\n",
       "    <tr>\n",
       "      <th>47806</th>\n",
       "      <td>-0.029433</td>\n",
       "      <td>-0.025839</td>\n",
       "      <td>0.918089</td>\n",
       "      <td>-0.669774</td>\n",
       "      <td>1</td>\n",
       "      <td>0</td>\n",
       "      <td>0</td>\n",
       "      <td>0</td>\n",
       "      <td>0</td>\n",
       "      <td>1</td>\n",
       "      <td>...</td>\n",
       "      <td>1</td>\n",
       "      <td>0</td>\n",
       "      <td>0</td>\n",
       "      <td>0</td>\n",
       "      <td>1</td>\n",
       "      <td>0</td>\n",
       "      <td>0</td>\n",
       "      <td>1</td>\n",
       "      <td>1</td>\n",
       "      <td>0</td>\n",
       "    </tr>\n",
       "    <tr>\n",
       "      <th>32448</th>\n",
       "      <td>-0.036628</td>\n",
       "      <td>-0.037929</td>\n",
       "      <td>0.918089</td>\n",
       "      <td>-0.200002</td>\n",
       "      <td>1</td>\n",
       "      <td>0</td>\n",
       "      <td>0</td>\n",
       "      <td>1</td>\n",
       "      <td>0</td>\n",
       "      <td>0</td>\n",
       "      <td>...</td>\n",
       "      <td>1</td>\n",
       "      <td>0</td>\n",
       "      <td>0</td>\n",
       "      <td>0</td>\n",
       "      <td>1</td>\n",
       "      <td>0</td>\n",
       "      <td>0</td>\n",
       "      <td>1</td>\n",
       "      <td>1</td>\n",
       "      <td>0</td>\n",
       "    </tr>\n",
       "    <tr>\n",
       "      <th>995</th>\n",
       "      <td>-0.036849</td>\n",
       "      <td>-0.045268</td>\n",
       "      <td>-0.764413</td>\n",
       "      <td>1.679088</td>\n",
       "      <td>1</td>\n",
       "      <td>0</td>\n",
       "      <td>0</td>\n",
       "      <td>0</td>\n",
       "      <td>0</td>\n",
       "      <td>1</td>\n",
       "      <td>...</td>\n",
       "      <td>1</td>\n",
       "      <td>0</td>\n",
       "      <td>0</td>\n",
       "      <td>0</td>\n",
       "      <td>1</td>\n",
       "      <td>0</td>\n",
       "      <td>0</td>\n",
       "      <td>1</td>\n",
       "      <td>1</td>\n",
       "      <td>0</td>\n",
       "    </tr>\n",
       "  </tbody>\n",
       "</table>\n",
       "<p>5 rows × 31 columns</p>\n",
       "</div>"
      ],
      "text/plain": [
       "          Multa  Valor Emprestimo  Quant Adiantamento Deposito     Idade  \\\n",
       "36935 -0.035598         -0.042226                     0.918089 -0.434888   \n",
       "393   -0.036783         -0.043077                    -0.764413 -0.200002   \n",
       "47806 -0.029433         -0.025839                     0.918089 -0.669774   \n",
       "32448 -0.036628         -0.037929                     0.918089 -0.200002   \n",
       "995   -0.036849         -0.045268                    -0.764413  1.679088   \n",
       "\n",
       "       Dependentes_N  Dependentes_S  Estado Civil_1  Estado Civil_2  \\\n",
       "36935              1              0               0               1   \n",
       "393                0              1               0               1   \n",
       "47806              1              0               0               0   \n",
       "32448              1              0               0               1   \n",
       "995                1              0               0               0   \n",
       "\n",
       "       Estado Civil_3  Estado Civil_4  ...  Qtd Fonte Renda_0.0  \\\n",
       "36935               0               0  ...                    0   \n",
       "393                 0               0  ...                    1   \n",
       "47806               0               1  ...                    1   \n",
       "32448               0               0  ...                    1   \n",
       "995                 0               1  ...                    1   \n",
       "\n",
       "       Qtd Fonte Renda_1.0  Qtd Fonte Renda_2.0  Qtd Fonte Renda_3.0  \\\n",
       "36935                    1                    0                    0   \n",
       "393                      0                    0                    0   \n",
       "47806                    0                    0                    0   \n",
       "32448                    0                    0                    0   \n",
       "995                      0                    0                    0   \n",
       "\n",
       "       Conta Conjunta_N  Conta Conjunta_S  Conta Poupanca_N  Conta Poupanca_S  \\\n",
       "36935                 1                 0                 0                 1   \n",
       "393                   1                 0                 0                 1   \n",
       "47806                 1                 0                 0                 1   \n",
       "32448                 1                 0                 0                 1   \n",
       "995                   1                 0                 0                 1   \n",
       "\n",
       "       Conta Salario_N  Conta Salario_S  \n",
       "36935                1                0  \n",
       "393                  1                0  \n",
       "47806                1                0  \n",
       "32448                1                0  \n",
       "995                  1                0  \n",
       "\n",
       "[5 rows x 31 columns]"
      ]
     },
     "execution_count": 29,
     "metadata": {},
     "output_type": "execute_result"
    }
   ],
   "source": [
    "X_train[num_best] = StandardScaler().fit_transform(X_train[num_best])\n",
    "X_test[num_best] = StandardScaler().fit_transform(X_test[num_best])\n",
    "\n",
    "X_train.head()"
   ]
  },
  {
   "cell_type": "markdown",
   "metadata": {},
   "source": [
    "### Training"
   ]
  },
  {
   "cell_type": "code",
   "execution_count": 30,
   "metadata": {},
   "outputs": [],
   "source": [
    "models_search = {\n",
    "    'random_forest': RandomizedSearchCV(\n",
    "        estimator=RandomForestClassifier(),\n",
    "        param_distributions={\n",
    "            'bootstrap': [True, False],\n",
    "            'max_depth': [3, 5, 10, 20, 50],\n",
    "            'n_estimators': [50, 100, 200, 500],\n",
    "            'max_features': ['auto', 'sqrt'],\n",
    "            'class_weight': ['balanced', None] },\n",
    "        n_iter=10, cv=5, verbose=5, n_jobs=-1, random_state=42),\n",
    "    \n",
    "    'decision_tree': RandomizedSearchCV(\n",
    "        estimator=DecisionTreeClassifier(),\n",
    "        param_distributions={\n",
    "            'criterion': ['entropy', 'gini'],\n",
    "            'max_depth': [3, 5, 10, 20],\n",
    "            'max_features': np.arange(1, X_train.shape[1]),\n",
    "            'class_weight': ['balanced', None] },\n",
    "        n_iter=10, cv=5, verbose=5, n_jobs=-1, random_state=42),\n",
    "    \n",
    "    'logistic_regression': RandomizedSearchCV(\n",
    "        estimator=LogisticRegression(),\n",
    "        param_distributions={\n",
    "            'C': np.linspace(0.1, 10, 20),\n",
    "            'penalty': ['l1', 'l2'],\n",
    "            'class_weight': ['balanced', None],\n",
    "            'solver': ['liblinear'] },\n",
    "        n_iter=10, cv=5, verbose=5, n_jobs=-1, random_state=42),\n",
    "\n",
    "    'gaussian_nb': RandomizedSearchCV(\n",
    "        estimator=GaussianNB(),\n",
    "        param_distributions={},\n",
    "        n_iter=10, cv=5, verbose=5, n_jobs=-1, random_state=42),\n",
    "\n",
    "    'adaboost': RandomizedSearchCV(\n",
    "        estimator=AdaBoostClassifier(),\n",
    "        param_distributions={\n",
    "            'n_estimators': [50, 100, 150, 200] },\n",
    "        n_iter=10, cv=5, verbose=5, n_jobs=-1, random_state=42),\n",
    "\n",
    "    'xgboost': RandomizedSearchCV(\n",
    "        estimator=XGBClassifier(),\n",
    "        param_distributions={\n",
    "            'max_depth': [6, 10, 15, 20],\n",
    "            'learning_rate': [0.001, 0.01, 0.1, 0.2, 0,3],\n",
    "            'subsample': [0.5, 0.6, 0.7, 0.8, 0.9, 1.0],\n",
    "            'colsample_bytree': [0.4, 0.5, 0.6, 0.7, 0.8, 0.9, 1.0],\n",
    "            'colsample_bylevel': [0.4, 0.5, 0.6, 0.7, 0.8, 0.9, 1.0],\n",
    "            'min_child_weight': [0.5, 1.0, 3.0, 5.0, 7.0, 10.0],\n",
    "            'gamma': [0, 0.25, 0.5, 1.0],\n",
    "            'reg_lambda': [0.1, 1.0, 5.0, 10.0, 50.0, 100.0],\n",
    "            'n_estimators': [100] },\n",
    "        n_iter=10, cv=5, verbose=5, n_jobs=-1, random_state=42) }"
   ]
  },
  {
   "cell_type": "code",
   "execution_count": 31,
   "metadata": {},
   "outputs": [
    {
     "name": "stdout",
     "output_type": "stream",
     "text": [
      "training random_forest\n",
      "Fitting 5 folds for each of 10 candidates, totalling 50 fits\n"
     ]
    },
    {
     "name": "stderr",
     "output_type": "stream",
     "text": [
      "[Parallel(n_jobs=-1)]: Using backend LokyBackend with 4 concurrent workers.\n",
      "[Parallel(n_jobs=-1)]: Done  10 tasks      | elapsed:   31.6s\n",
      "[Parallel(n_jobs=-1)]: Done  50 out of  50 | elapsed:  2.3min finished\n"
     ]
    },
    {
     "name": "stdout",
     "output_type": "stream",
     "text": [
      "training decision_tree\n",
      "Fitting 5 folds for each of 10 candidates, totalling 50 fits\n"
     ]
    },
    {
     "name": "stderr",
     "output_type": "stream",
     "text": [
      "[Parallel(n_jobs=-1)]: Using backend LokyBackend with 4 concurrent workers.\n",
      "[Parallel(n_jobs=-1)]: Done  10 tasks      | elapsed:    0.7s\n",
      "[Parallel(n_jobs=-1)]: Done  50 out of  50 | elapsed:    2.7s finished\n",
      "[Parallel(n_jobs=-1)]: Using backend LokyBackend with 4 concurrent workers.\n"
     ]
    },
    {
     "name": "stdout",
     "output_type": "stream",
     "text": [
      "training logistic_regression\n",
      "Fitting 5 folds for each of 10 candidates, totalling 50 fits\n"
     ]
    },
    {
     "name": "stderr",
     "output_type": "stream",
     "text": [
      "[Parallel(n_jobs=-1)]: Done  10 tasks      | elapsed:   27.5s\n",
      "[Parallel(n_jobs=-1)]: Done  50 out of  50 | elapsed:  2.7min finished\n"
     ]
    },
    {
     "name": "stdout",
     "output_type": "stream",
     "text": [
      "training gaussian_nb\n",
      "Fitting 5 folds for each of 1 candidates, totalling 5 fits\n"
     ]
    },
    {
     "name": "stderr",
     "output_type": "stream",
     "text": [
      "[Parallel(n_jobs=-1)]: Using backend LokyBackend with 4 concurrent workers.\n",
      "[Parallel(n_jobs=-1)]: Done   2 out of   5 | elapsed:    0.1s remaining:    0.2s\n",
      "[Parallel(n_jobs=-1)]: Done   5 out of   5 | elapsed:    0.2s finished\n",
      "[Parallel(n_jobs=-1)]: Using backend LokyBackend with 4 concurrent workers.\n"
     ]
    },
    {
     "name": "stdout",
     "output_type": "stream",
     "text": [
      "training adaboost\n",
      "Fitting 5 folds for each of 4 candidates, totalling 20 fits\n"
     ]
    },
    {
     "name": "stderr",
     "output_type": "stream",
     "text": [
      "[Parallel(n_jobs=-1)]: Done  10 tasks      | elapsed:   19.7s\n",
      "[Parallel(n_jobs=-1)]: Done  18 out of  20 | elapsed:   50.4s remaining:    5.5s\n",
      "[Parallel(n_jobs=-1)]: Done  20 out of  20 | elapsed:   56.8s finished\n"
     ]
    },
    {
     "name": "stdout",
     "output_type": "stream",
     "text": [
      "training xgboost\n",
      "Fitting 5 folds for each of 10 candidates, totalling 50 fits\n"
     ]
    },
    {
     "name": "stderr",
     "output_type": "stream",
     "text": [
      "[Parallel(n_jobs=-1)]: Using backend LokyBackend with 4 concurrent workers.\n",
      "[Parallel(n_jobs=-1)]: Done  10 tasks      | elapsed:   50.7s\n",
      "[Parallel(n_jobs=-1)]: Done  50 out of  50 | elapsed:  2.9min finished\n"
     ]
    },
    {
     "name": "stdout",
     "output_type": "stream",
     "text": [
      "[08:28:03] WARNING: C:/Users/Administrator/workspace/xgboost-win64_release_1.3.0/src/learner.cc:1061: Starting in XGBoost 1.3.0, the default evaluation metric used with the objective 'binary:logistic' was changed from 'error' to 'logloss'. Explicitly set eval_metric if you'd like to restore the old behavior.\n"
     ]
    }
   ],
   "source": [
    "def train_search(name, model_search):\n",
    "    print('training %s' % name)\n",
    "    \n",
    "    model_search.fit(X_train, y_train)\n",
    "    model = model_search.best_estimator_\n",
    "    \n",
    "    return model\n",
    "\n",
    "models = { name: train_search(name, model_search) for (name, model_search) in models_search.items() }"
   ]
  },
  {
   "cell_type": "code",
   "execution_count": 32,
   "metadata": {},
   "outputs": [
    {
     "name": "stdout",
     "output_type": "stream",
     "text": [
      "training ensemble\n",
      "Fitting 5 folds for each of 2 candidates, totalling 10 fits\n"
     ]
    },
    {
     "name": "stderr",
     "output_type": "stream",
     "text": [
      "[Parallel(n_jobs=-1)]: Using backend LokyBackend with 4 concurrent workers.\n",
      "[Parallel(n_jobs=-1)]: Done   6 out of  10 | elapsed:  2.0min remaining:  1.3min\n",
      "[Parallel(n_jobs=-1)]: Done  10 out of  10 | elapsed:  2.6min finished\n"
     ]
    },
    {
     "name": "stdout",
     "output_type": "stream",
     "text": [
      "[08:31:11] WARNING: C:/Users/Administrator/workspace/xgboost-win64_release_1.3.0/src/learner.cc:1061: Starting in XGBoost 1.3.0, the default evaluation metric used with the objective 'binary:logistic' was changed from 'error' to 'logloss'. Explicitly set eval_metric if you'd like to restore the old behavior.\n"
     ]
    }
   ],
   "source": [
    "ensemble = RandomizedSearchCV(\n",
    "    estimator=VotingClassifier(estimators=list(models.items())),\n",
    "    param_distributions={ 'voting': ['hard', 'soft'] },\n",
    "    n_iter=10, cv=5, verbose=5, n_jobs=-1)\n",
    "\n",
    "models['ensemble'] = train_search('ensemble', ensemble)"
   ]
  },
  {
   "cell_type": "code",
   "execution_count": 33,
   "metadata": {},
   "outputs": [],
   "source": [
    "def evaluate(model):\n",
    "    pred = model.predict(X_test)\n",
    "    pred_mean = pred.mean()\n",
    "    \n",
    "    cm = confusion_matrix(y_test, pred)\n",
    "    \n",
    "    acc = accuracy_score(y_test, pred)\n",
    "    auc = roc_auc_score(y_test, pred)\n",
    "    \n",
    "    tp, fp, fn, tn = cm.flatten()\n",
    "    precision = tp / (tp + fp)\n",
    "    recall = tp / (tp + fn)\n",
    "    f_score = (2 * precision * recall) / (precision + recall)\n",
    "    \n",
    "    return { 'pred': pred, 'pred_mean': pred_mean, 'confusion_matrix': cm, 'accuracy': acc, 'auc': auc,\n",
    "        'precision': precision, 'recall': recall, 'f_score': f_score }\n",
    "\n",
    "results = { name: evaluate(model) for (name, model) in models.items() }"
   ]
  },
  {
   "cell_type": "code",
   "execution_count": 34,
   "metadata": {},
   "outputs": [
    {
     "data": {
      "text/html": [
       "<div>\n",
       "<style scoped>\n",
       "    .dataframe tbody tr th:only-of-type {\n",
       "        vertical-align: middle;\n",
       "    }\n",
       "\n",
       "    .dataframe tbody tr th {\n",
       "        vertical-align: top;\n",
       "    }\n",
       "\n",
       "    .dataframe thead th {\n",
       "        text-align: right;\n",
       "    }\n",
       "</style>\n",
       "<table border=\"1\" class=\"dataframe\">\n",
       "  <thead>\n",
       "    <tr style=\"text-align: right;\">\n",
       "      <th></th>\n",
       "      <th>pred_mean</th>\n",
       "      <th>accuracy</th>\n",
       "      <th>auc</th>\n",
       "      <th>precision</th>\n",
       "      <th>recall</th>\n",
       "      <th>f_score</th>\n",
       "    </tr>\n",
       "  </thead>\n",
       "  <tbody>\n",
       "    <tr>\n",
       "      <th>random_forest</th>\n",
       "      <td>0.5175</td>\n",
       "      <td>0.6348</td>\n",
       "      <td>0.6885</td>\n",
       "      <td>0.7807</td>\n",
       "      <td>0.3383</td>\n",
       "      <td>0.4720</td>\n",
       "    </tr>\n",
       "    <tr>\n",
       "      <th>decision_tree</th>\n",
       "      <td>0.4001</td>\n",
       "      <td>0.5296</td>\n",
       "      <td>0.6326</td>\n",
       "      <td>0.8097</td>\n",
       "      <td>0.2822</td>\n",
       "      <td>0.4185</td>\n",
       "    </tr>\n",
       "    <tr>\n",
       "      <th>logistic_regression</th>\n",
       "      <td>0.9773</td>\n",
       "      <td>0.8085</td>\n",
       "      <td>0.5465</td>\n",
       "      <td>0.0963</td>\n",
       "      <td>0.8865</td>\n",
       "      <td>0.1738</td>\n",
       "    </tr>\n",
       "    <tr>\n",
       "      <th>gaussian_nb</th>\n",
       "      <td>0.9862</td>\n",
       "      <td>0.7912</td>\n",
       "      <td>0.5126</td>\n",
       "      <td>0.0337</td>\n",
       "      <td>0.5108</td>\n",
       "      <td>0.0632</td>\n",
       "    </tr>\n",
       "    <tr>\n",
       "      <th>adaboost</th>\n",
       "      <td>0.5566</td>\n",
       "      <td>0.6533</td>\n",
       "      <td>0.6820</td>\n",
       "      <td>0.7314</td>\n",
       "      <td>0.3448</td>\n",
       "      <td>0.4687</td>\n",
       "    </tr>\n",
       "    <tr>\n",
       "      <th>xgboost</th>\n",
       "      <td>0.3218</td>\n",
       "      <td>0.4761</td>\n",
       "      <td>0.6206</td>\n",
       "      <td>0.8690</td>\n",
       "      <td>0.2679</td>\n",
       "      <td>0.4095</td>\n",
       "    </tr>\n",
       "    <tr>\n",
       "      <th>ensemble</th>\n",
       "      <td>0.5180</td>\n",
       "      <td>0.6361</td>\n",
       "      <td>0.6900</td>\n",
       "      <td>0.7826</td>\n",
       "      <td>0.3394</td>\n",
       "      <td>0.4735</td>\n",
       "    </tr>\n",
       "  </tbody>\n",
       "</table>\n",
       "</div>"
      ],
      "text/plain": [
       "                     pred_mean  accuracy     auc  precision  recall  f_score\n",
       "random_forest           0.5175    0.6348  0.6885     0.7807  0.3383   0.4720\n",
       "decision_tree           0.4001    0.5296  0.6326     0.8097  0.2822   0.4185\n",
       "logistic_regression     0.9773    0.8085  0.5465     0.0963  0.8865   0.1738\n",
       "gaussian_nb             0.9862    0.7912  0.5126     0.0337  0.5108   0.0632\n",
       "adaboost                0.5566    0.6533  0.6820     0.7314  0.3448   0.4687\n",
       "xgboost                 0.3218    0.4761  0.6206     0.8690  0.2679   0.4095\n",
       "ensemble                0.5180    0.6361  0.6900     0.7826  0.3394   0.4735"
      ]
     },
     "execution_count": 34,
     "metadata": {},
     "output_type": "execute_result"
    }
   ],
   "source": [
    "df_results = pd.DataFrame(results).transpose()\n",
    "df_results.drop(columns=['pred', 'confusion_matrix']).astype(float).round(decimals=4)"
   ]
  },
  {
   "cell_type": "code",
   "execution_count": 40,
   "metadata": {},
   "outputs": [
    {
     "data": {
      "image/png": "[encoded data removed]",
      "text/plain": [
       "<Figure size 864x1152 with 15 Axes>"
      ]
     },
     "metadata": {
      "needs_background": "light"
     },
     "output_type": "display_data"
    }
   ],
   "source": [
    "ncols = 2\n",
    "nrows = 4\n",
    "fig, ax = plt.subplots(ncols=ncols, nrows=nrows, figsize=(12, 16))\n",
    "\n",
    "for i, (name, result) in enumerate(results.items()):\n",
    "    c = i % ncols\n",
    "    r = i // ncols\n",
    "    cm = result['confusion_matrix']\n",
    "    \n",
    "    ax[r][c].title.set_text('%s\\'s Confusion Matrix' % name)\n",
    "    sns.heatmap(cm, annot=True, fmt='g', cmap='Blues', ax=ax[r][c])"
   ]
  }
 ],
 "metadata": {
  "kernelspec": {
   "display_name": "Python 3",
   "language": "python",
   "name": "python3"
  },
  "language_info": {
   "codemirror_mode": {
    "name": "ipython",
    "version": 3
   },
   "file_extension": ".py",
   "mimetype": "text/x-python",
   "name": "python",
   "nbconvert_exporter": "python",
   "pygments_lexer": "ipython3",
   "version": "3.7.7"
  }
 },
 "nbformat": 4,
 "nbformat_minor": 4
}
